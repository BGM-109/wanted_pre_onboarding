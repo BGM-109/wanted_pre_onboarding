{
 "cells": [
  {
   "cell_type": "code",
   "execution_count": 2,
   "id": "1dc475ea",
   "metadata": {},
   "outputs": [],
   "source": [
    "import string\n",
    "\n",
    "class Tokenizer():\n",
    "  def __init__(self):\n",
    "    self.word_dict = {'oov': 0}\n",
    "    self.fit_checker = False\n",
    "  \n",
    "  def preprocessing(self, sequences):\n",
    "    result = []\n",
    "    for s in sequences:\n",
    "        new_s = s.lower().translate(str.maketrans('', '', string.punctuation))\n",
    "        arr = list(new_s.split(' '))\n",
    "        result.append(arr)\n",
    "    '''\n",
    "    문제 1-1.\n",
    "    # 텍스트 전처리를 하는 함수입니다.\n",
    "\n",
    "# - input: 여러 영어 문장이 포함된 list 입니다. ex) ['I go to school.', 'I LIKE pizza!']\n",
    "# - output: 각 문장을 토큰화한 결과로, nested list 형태입니다. ex) [['i', 'go', 'to', 'school'], ['i', 'like', 'pizza']]\n",
    "# - 조건 1: 입력된 문장에 대해서 소문자로의 변환과 특수문자 제거를 수행합니다.\n",
    "# - 조건 2: 토큰화는 white space 단위로 수행합니다.\n",
    "    '''\n",
    "    return result\n",
    "  \n",
    "  def fit(self, sequences):\n",
    "    self.fit_checker = False\n",
    "    arr = self.preprocessing(sequences)\n",
    "    \n",
    "    '''\n",
    "    문제 1-2.\n",
    "    # 어휘 사전을 구축하는 함수입니다.\n",
    "\n",
    "# - input: 여러 영어 문장이 포함된 list 입니다. ex) ['I go to school.', 'I LIKE pizza!']\n",
    "# - 조건 1: 위에서 만든 `preprocessing` 함수를 이용하여 각 문장에 대해 토큰화를 수행합니다.\n",
    "# - 조건 2: 각각의 토큰을 정수 인덱싱 하기 위한 어휘 사전(`self.word_dict`)을 생성합니다.\n",
    "#     - 주어진 코드에 있는 `self.word_dict`를 활용합니다.\n",
    "    '''\n",
    "    self.fit_checker = True\n",
    "  \n",
    "  def transform(self, sequences):\n",
    "    result = []\n",
    "    tokens = self.preprocessing(sequences)\n",
    "    if self.fit_checker:\n",
    "      '''\n",
    "      문제 1-3.\n",
    "      # 어휘 사전을 활용하여 입력 문장을 정수 인덱싱하는 함수입니다.\n",
    "\n",
    "# - input: 여러 영어 문장이 포함된 list입니다. ex) ['I go to school.', 'I LIKE pizza!']\n",
    "# - output: 각 문장의 정수 인덱싱으로, nested list 형태입니다. ex) [[1, 2, 3, 4], [1, 5, 6]]\n",
    "# - 조건 1: 어휘 사전(`self.word_dict`)에 없는 단어는 'oov'의 index로 변환합니다.\n",
    "      '''\n",
    "      return result\n",
    "    else:\n",
    "      raise Exception(\"Tokenizer instance is not fitted yet.\")\n",
    "      \n",
    "  def fit_transform(self, sequences):\n",
    "    self.fit(sequences)\n",
    "    result = self.transform(sequences)\n",
    "    return result\n",
    "\n",
    "\n"
   ]
  },
  {
   "cell_type": "code",
   "execution_count": 3,
   "id": "793706ee",
   "metadata": {},
   "outputs": [
    {
     "name": "stdout",
     "output_type": "stream",
     "text": [
      "[['i', 'go', 'to', 'school'], ['i', 'like', 'pizza']]\n"
     ]
    }
   ],
   "source": [
    "example = ['I go to school.', 'I LIKE pizza!']\n",
    "\n",
    "token = Tokenizer()\n",
    "arr = token.preprocessing(example)\n",
    "print(arr)"
   ]
  },
  {
   "cell_type": "code",
   "execution_count": null,
   "id": "9ed255b0",
   "metadata": {},
   "outputs": [],
   "source": []
  }
 ],
 "metadata": {
  "kernelspec": {
   "display_name": "Python 3 (ipykernel)",
   "language": "python",
   "name": "python3"
  },
  "language_info": {
   "codemirror_mode": {
    "name": "ipython",
    "version": 3
   },
   "file_extension": ".py",
   "mimetype": "text/x-python",
   "name": "python",
   "nbconvert_exporter": "python",
   "pygments_lexer": "ipython3",
   "version": "3.9.6"
  }
 },
 "nbformat": 4,
 "nbformat_minor": 5
}
