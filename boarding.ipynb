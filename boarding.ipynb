{
 "cells": [
  {
   "cell_type": "code",
   "execution_count": 26,
   "id": "1dc475ea",
   "metadata": {},
   "outputs": [],
   "source": [
    "import string\n",
    "\n",
    "class Tokenizer():\n",
    "  def __init__(self):\n",
    "    self.word_dict = {'oov': 0}\n",
    "    self.fit_checker = False\n",
    "  \n",
    "  def preprocessing(self, sequences):\n",
    "    result = []\n",
    "    for s in sequences:\n",
    "        new_s = s.lower().translate(str.maketrans('', '', string.punctuation))\n",
    "        arr = list(new_s.split(' '))\n",
    "        result.append(arr)\n",
    "    print(f\"preprocessing data : {result}\")\n",
    "    return result\n",
    "  \n",
    "  def fit(self, sequences):\n",
    "    self.fit_checker = False\n",
    "    arr = self.preprocessing(sequences)\n",
    "    arr2 = list(set(sum(arr, [])))\n",
    "    token_index = 1\n",
    "    for t in arr2:\n",
    "        self.word_dict.update({t: token_index})\n",
    "        token_index+=1  \n",
    "    self.fit_checker = True\n",
    "    print(f\"fitted word dict: {self.word_dict}\")\n",
    "  \n",
    "  def transform(self, sequences):\n",
    "    result = []\n",
    "    tokens = self.preprocessing(sequences)\n",
    "    if self.fit_checker:\n",
    "        for token in tokens:\n",
    "            arr = []\n",
    "            for t in token:\n",
    "                trans_t = self.word_dict.get(t)\n",
    "                if trans_t != None:\n",
    "                    arr.append(trans_t)\n",
    "                else:\n",
    "                    arr.append(self.word_dict['oov'])\n",
    "            print(arr)\n",
    "            result.append(arr)\n",
    "        \n",
    "        \n",
    "#      문제 1-3.\n",
    "      # 어휘 사전을 활용하여 입력 문장을 정수 인덱싱하는 함수입니다.\n",
    "\n",
    "# - input: 여러 영어 문장이 포함된 list입니다. ex) ['I go to school.', 'I LIKE pizza!']\n",
    "# - output: 각 문장의 정수 인덱싱으로, nested list 형태입니다. ex) [[1, 2, 3, 4], [1, 5, 6]]\n",
    "# - 조건 1: 어휘 사전(`self.word_dict`)에 없는 단어는 'oov'의 index로 변환합니다.\n",
    "  \n",
    "        return result\n",
    "    else:\n",
    "      raise Exception(\"Tokenizer instance is not fitted yet.\")\n",
    "      \n",
    "  def fit_transform(self, sequences):\n",
    "    self.fit(sequences)\n",
    "    result = self.transform(sequences)\n",
    "    return result\n",
    "\n",
    "\n"
   ]
  },
  {
   "cell_type": "code",
   "execution_count": 28,
   "id": "793706ee",
   "metadata": {
    "scrolled": true
   },
   "outputs": [
    {
     "name": "stdout",
     "output_type": "stream",
     "text": [
      "[['i', 'go', 'to', 'school'], ['i', 'like', 'pizza']]\n",
      "['pizza', 'to', 'i', 'go', 'school', 'like']\n",
      "{'oov': 0, 'pizza': 1, 'to': 2, 'i': 3, 'go': 4, 'school': 5, 'like': 6}\n",
      "None\n",
      "[3, 4, 2, 5]\n",
      "[3, 6, 1]\n",
      "[[3, 4, 2, 5], [3, 6, 1]]\n"
     ]
    }
   ],
   "source": [
    "example = ['I go to school.', 'I LIKE pizza!']\n",
    "\n",
    "token = Tokenizer()\n",
    "arr = token.preprocessing(example)\n",
    "print(arr)\n",
    "\n",
    "print(token.fit(example))\n",
    "\n",
    "print(token.transform(example))"
   ]
  },
  {
   "cell_type": "code",
   "execution_count": null,
   "id": "9ed255b0",
   "metadata": {},
   "outputs": [],
   "source": []
  }
 ],
 "metadata": {
  "kernelspec": {
   "display_name": "Python 3 (ipykernel)",
   "language": "python",
   "name": "python3"
  },
  "language_info": {
   "codemirror_mode": {
    "name": "ipython",
    "version": 3
   },
   "file_extension": ".py",
   "mimetype": "text/x-python",
   "name": "python",
   "nbconvert_exporter": "python",
   "pygments_lexer": "ipython3",
   "version": "3.9.6"
  }
 },
 "nbformat": 4,
 "nbformat_minor": 5
}
